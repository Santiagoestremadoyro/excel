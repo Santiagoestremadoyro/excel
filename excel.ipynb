{
 "cells": [
  {
   "cell_type": "code",
   "execution_count": null,
   "metadata": {},
   "outputs": [],
   "source": [
    "import pandas as pd\n",
    "path_file = \"libros.xlsx\"\n",
    "col_types = {\"isbn\":str,\"isbn13\":str}\n",
    "hoja = \"data\"\n",
    "df = pd.read_excel(path_file,sheet_name=hoja,dtype=col_types)"
   ]
  },
  {
   "cell_type": "code",
   "execution_count": null,
   "metadata": {},
   "outputs": [],
   "source": [
    "df.columns.values"
   ]
  },
  {
   "cell_type": "code",
   "execution_count": null,
   "metadata": {},
   "outputs": [],
   "source": [
    "df"
   ]
  },
  {
   "cell_type": "code",
   "execution_count": null,
   "metadata": {},
   "outputs": [],
   "source": [
    "#Voy a filtrar ahora el dataframe\n",
    "df1 = df[df[\"# num_pages\"]>200]\n",
    "df2 = df[df[\"# num_pages\"]<=200]\n",
    "print(len(df1))\n",
    "print(len(df2))"
   ]
  },
  {
   "cell_type": "code",
   "execution_count": null,
   "metadata": {},
   "outputs": [],
   "source": [
    "df.shape"
   ]
  },
  {
   "cell_type": "code",
   "execution_count": null,
   "metadata": {},
   "outputs": [],
   "source": [
    "u1 = df1[\"average_rating\"].mean()\n",
    "u2 = df2[\"average_rating\"].mean()\n",
    "s1 = df1[\"average_rating\"].std()\n",
    "s2 = df2[\"average_rating\"].std()\n",
    "estad_vals1 = [u1,s1]\n",
    "estad_vals2 = [u2,s2]"
   ]
  },
  {
   "cell_type": "code",
   "execution_count": null,
   "metadata": {},
   "outputs": [],
   "source": [
    "print(estad_vals1,estad_vals2)"
   ]
  },
  {
   "cell_type": "code",
   "execution_count": null,
   "metadata": {},
   "outputs": [],
   "source": [
    "\n",
    "indices = [\"Media\",\"Desv. Estándar\"]\n",
    "r1 = pd.DataFrame(data=estad_vals1,index=indices,columns=[\"Valores\"])\n",
    "r2 = pd.DataFrame(data=estad_vals2,index=indices,columns=[\"Valores\"])"
   ]
  },
  {
   "cell_type": "code",
   "execution_count": null,
   "metadata": {},
   "outputs": [],
   "source": [
    "r1"
   ]
  },
  {
   "cell_type": "code",
   "execution_count": null,
   "metadata": {},
   "outputs": [],
   "source": [
    "r2"
   ]
  },
  {
   "cell_type": "code",
   "execution_count": null,
   "metadata": {},
   "outputs": [],
   "source": [
    "outfile = \"Resultados.xlsx\"\n",
    "writer = pd.ExcelWriter(outfile,engine=\"xlsxwriter\")\n",
    "r1.to_excel(writer,sheet_name=\"Mayor a 200 páginas\")\n",
    "r2.to_excel(writer,sheet_name=\"Menor o igual a 200 páginas\")\n",
    "writer.save()"
   ]
  },
  {
   "cell_type": "code",
   "execution_count": null,
   "metadata": {},
   "outputs": [],
   "source": []
  }
 ],
 "metadata": {
  "language_info": {
   "name": "python"
  }
 },
 "nbformat": 4,
 "nbformat_minor": 2
}
